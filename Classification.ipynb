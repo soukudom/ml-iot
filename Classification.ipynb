{
 "cells": [
  {
   "cell_type": "markdown",
   "metadata": {},
   "source": [
    "# Initialization"
   ]
  },
  {
   "cell_type": "code",
   "execution_count": 1,
   "metadata": {},
   "outputs": [],
   "source": [
    "import imp\n",
    "from sklearn.model_selection import KFold\n",
    "from sklearn.model_selection import train_test_split\n",
    "import numpy as np\n",
    "#from data_parser import DataParser\n",
    "from pull_data import Pull\n",
    "import os\n",
    "from sklearn.metrics import confusion_matrix\n",
    "from prettytable import PrettyTable\n",
    "from statistics import mean\n",
    "from sklearn import metrics\n",
    "from sklearn.metrics import classification_report\n",
    "from sklearn.model_selection import cross_val_score\n",
    "\n",
    "#from scikit_IsolatedForest import RandomForest\n",
    "from sklearn.ensemble import RandomForestClassifier\n",
    "#from scikit_LOFNovelty import AdaBoost\n",
    "from sklearn.ensemble import AdaBoostClassifier\n",
    "#from scikit_OneClassSVM import GradientBoosting\n",
    "from sklearn.ensemble import GradientBoostingClassifier"
   ]
  },
  {
   "cell_type": "code",
   "execution_count": 121,
   "metadata": {},
   "outputs": [],
   "source": [
    "DATA_CLASS = {\n",
    "    # CESNET DATASET\n",
    "    \"IKEA_APP\" : \"dev-annotated-datasets/ikea-app/train\",\n",
    "#    \"IKEA_HOMEKIT_CLEAR\" : \"dev-annotated-datasets/ikea-app/anomaly\",\n",
    "    #\"IKEA_HOMEKIT\" : \"dev-annotated-datasets/ikea-homekit/train\",\n",
    "    \"IP_CAM\" : \"dev-annotated-datasets/ipcam/train\",\n",
    "    #\"IP_CAM_MISCONFIG\" : \"dev-annotated-datasets/ipcam/anomaly_cam\",\n",
    "    \"NORMAL_USER\" : \"dev-annotated-datasets/normal-user/train\",\n",
    "    \"VOICE_ASSISTANT\" : \"dev-annotated-datasets/voice-assistant/train\",\n",
    "    \n",
    "    # UNSW DATASET\n",
    "    ## HUBS\n",
    "    \"AMAZON_ECHO\" : \"../data-sets/unsw-traces-device/Amazon-Echo\",\n",
    "    \"SMART_THINGS\" : \"../data-sets/unsw-traces-device/Smart-Things\",\n",
    "    ## CAMERAS\n",
    "    \"NETAMO_WELCOME\" : \"../data-sets/unsw-traces-device/Netatmo-Welcome\",\n",
    "    #\"TP-Link-Day-Night-Cloud-Camera\" : \"../data-sets/unsw-traces-device/TP-Link-Day-Night-Cloud-Camera\",\n",
    "    \"Samsung-Smart-Cam\" : \"../data-sets/unsw-traces-device/Samsung-Smart-Cam\",\n",
    "    \"INSTEON_CAM\" : \"../data-sets/unsw-traces-device/Insteon-Camera\",\n",
    "    #\"DROP_CAM\" : \"../data-sets/unsw-traces-device/Dropcam\",\n",
    "    \"WITHINGS_SMART_BABY_MONITOR\" : \"../data-sets/unsw-traces-device/Withings-Smart-Baby-Monitor\",\n",
    "    ## SWITCHES AND TRIGGERS\n",
    "    \"BELKIN_WEMO_SWITCH\" : \"../data-sets/unsw-traces-device/Belkin-Wemo-Switch\",\n",
    "    \"TP-Link-Smart-Plug\" : \"../data-sets/unsw-traces-device/TP-Link-Smart-Plug\",\n",
    "    #\"iHome\" : \"../data-sets/unsw-traces-device/iHome\",\n",
    "    \"BELKIN_WEMO_MOTION_SENSOR\" : \"../data-sets/unsw-traces-device/Belkin-Wemo-Motion-Sensor\",\n",
    "    ## AIR QUALITY SENSORS\n",
    "    #\"NEST-Protect-Smoke-Alarm\" : \"../data-sets/unsw-traces-device/NEST-Protect-Smoke-Alarm\",\n",
    "    \"Netatmo-Weather-Station\" : \"../data-sets/unsw-traces-device/Netatmo-Weather-Station\",\n",
    "    ## HEATLTHCARE DEVICE\n",
    "    #\"Withings-Smart-Scale\" : \"../data-sets/unsw-traces-device/Withings-Smart-Scale\",\n",
    "    #\"Blipcare-Blood-Pressure-Meter\" : \"../data-sets/unsw-traces-device/Blipcare-Blood-Pressure-Meter\",\n",
    "    \"Withings-Aura-Smart-Sleep-Sensor\" : \"../data-sets/unsw-traces-device/Withings-Aura-Smart-Sleep-Sensor\",\n",
    "    ## LIGHT BULBS\n",
    "    \"Light-Bulbs-LiFX-Smart-Bulb\" : \"../data-sets/unsw-traces-device/Light-Bulbs-LiFX-Smart-Bulb\",\n",
    "    ## ELECTRONIC\n",
    "    #\"Triby-Speaker\" : \"../data-sets/unsw-traces-device/Triby-Speaker\",\n",
    "    #\"PIX-STAR-Photo-Frame\" : \"../data-sets/unsw-traces-device/PIX-STAR-Photo-Frame\",\n",
    "    \"HP-Printer\" : \"../data-sets/unsw-traces-device/HP-Printer\",\n",
    "    ## NON-IOT\n",
    "    \"Laptop\" : \"../data-sets/unsw-traces-device/Laptop\",\n",
    "    \"ANDROID_PHONE\" : \"../data-sets/unsw-traces-device/Android-Phone\",\n",
    "    \"Samsung-Galaxy-Tab\" : \"../data-sets/unsw-traces-device/Samsung-Galaxy-Tab\",\n",
    "    #\"IPhone\" : \"../data-sets/unsw-traces-device/IPhone\",\n",
    "    \n",
    "    # CTU13 BOTNET ATTACKS DATASET\n",
    "    #\"BOTNET_SOGOU\" : \"../data-sets/botnet/sogou\",\n",
    "    #\"BOTNET_RBOT\" : \"../data-sets/botnet/rbot\",\n",
    "#     \"BOTNET_NERIS\" : \"../data-sets/botnet/neris\"\n",
    "}"
   ]
  },
  {
   "cell_type": "markdown",
   "metadata": {},
   "source": [
    "# Function Definitions"
   ]
  },
  {
   "cell_type": "code",
   "execution_count": null,
   "metadata": {},
   "outputs": [],
   "source": []
  },
  {
   "cell_type": "code",
   "execution_count": 3,
   "metadata": {},
   "outputs": [],
   "source": [
    "def runModel(models):\n",
    "    for key, model in models.items():\n",
    "        print(\"### Model Name:\",key,\" ###\")\n",
    "        kf = KFold(5, True)\n",
    "        iteration_cnt = 0\n",
    "        for train_index, test_index in kf.split(c_data,c_target):\n",
    "            iteration_cnt += 1\n",
    "            #Train\n",
    "            model.fit(c_data[train_index],c_target[train_index])\n",
    "            #Evaluate \n",
    "            p_class = model.predict(c_data[test_index])\n",
    "            y_pred_valid = model.predict_proba(c_data[test_index])\n",
    "            #print(p_class)"
   ]
  },
  {
   "cell_type": "markdown",
   "metadata": {},
   "source": [
    "# Pull Datasets"
   ]
  },
  {
   "cell_type": "raw",
   "metadata": {},
   "source": [
    "\n",
    "a = Pull(VOICE_ASSISTANT +\"/train/\",1)\n",
    "b = Pull(IKEA_APP +\"/train/\",2)\n",
    "c = Pull(IKEA_HOMEKIT +\"/train/\",2)\n",
    "d = Pull(IP_CAM +\"/train/\",3)\n",
    "e = Pull(NORMAL_USER +\"/train/\",4)\n",
    "c_anomaly = np.array(Pull(IP_CAM+\"/anomaly\",3).data)\n",
    "c_data = np.array(a.data + b.data)# + c.data + d.data)# + e.data)\n",
    "c_target = np.array(a.labels + b.labels)# + c.labels + d.labels)# + e.labels)\n",
    "print(\"Input Data:\",len(c_data),\" Input Labels:\",len(c_target))\n",
    "print(\"Number of features:\",a.features_cnt)"
   ]
  },
  {
   "cell_type": "markdown",
   "metadata": {},
   "source": [
    "# MODELS"
   ]
  },
  {
   "cell_type": "code",
   "execution_count": 4,
   "metadata": {},
   "outputs": [],
   "source": [
    "MODELS = {}\n",
    "MODELS[\"RandomForest\"] = {}\n",
    "MODELS[\"AdaBoost\"] = {}\n",
    "MODELS[\"GradientBoosting\"] = {}\n",
    "rng = np.random.RandomState(12345)\n",
    "\n",
    "MODELS[\"RandomForest\"][\"RF1\"] = RandomForestClassifier(random_state=rng,n_estimators=10)\n",
    "MODELS[\"AB1\"] = AdaBoostClassifier(random_state=rng)\n",
    "MODELS[\"GradientBoosting\"] = GradientBoostingClassifier(random_state=rng)\n"
   ]
  },
  {
   "cell_type": "code",
   "execution_count": 5,
   "metadata": {},
   "outputs": [],
   "source": [
    "#runModel(MODELS[\"RandomForest\"])"
   ]
  },
  {
   "cell_type": "markdown",
   "metadata": {},
   "source": [
    "# Evaluation"
   ]
  },
  {
   "cell_type": "code",
   "execution_count": 124,
   "metadata": {},
   "outputs": [
    {
     "name": "stdout",
     "output_type": "stream",
     "text": [
      "Loading IKEA_APP  dataset\n",
      "Loading IP_CAM  dataset\n",
      "Loading NORMAL_USER  dataset\n",
      "Loading VOICE_ASSISTANT  dataset\n",
      "Loading AMAZON_ECHO  dataset\n",
      "Loading SMART_THINGS  dataset\n",
      "Loading NETAMO_WELCOME  dataset\n",
      "Loading Samsung-Smart-Cam  dataset\n",
      "Loading INSTEON_CAM  dataset\n",
      "Loading WITHINGS_SMART_BABY_MONITOR  dataset\n",
      "Loading BELKIN_WEMO_SWITCH  dataset\n",
      "Loading TP-Link-Smart-Plug  dataset\n",
      "Loading BELKIN_WEMO_MOTION_SENSOR  dataset\n",
      "Loading Netatmo-Weather-Station  dataset\n",
      "Loading Withings-Aura-Smart-Sleep-Sensor  dataset\n",
      "Loading Light-Bulbs-LiFX-Smart-Bulb  dataset\n",
      "Loading HP-Printer  dataset\n",
      "Loading Laptop  dataset\n",
      "Loading ANDROID_PHONE  dataset\n",
      "Loading Samsung-Galaxy-Tab  dataset\n"
     ]
    }
   ],
   "source": [
    "UPPER_LIMIT = 400\n",
    "ANOMALY = [\"IKEA_HOMEKIT_CLEAR\"]\n",
    "class_index = 1\n",
    "c_data = None\n",
    "c_target = None\n",
    "c_anomaly_data = None\n",
    "c_anomaly_target = None\n",
    "\n",
    "for data_cl in DATA_CLASS: \n",
    "    \n",
    "    if data_cl in ANOMALY:\n",
    "        print(\"Loading Anomaly\",data_cl,\" dataset\")\n",
    "        a = Pull(DATA_CLASS[data_cl],999)\n",
    "        if len(a.data) < UPPER_LIMIT:\n",
    "            max_limit = len(a.data)\n",
    "        else:\n",
    "            max_limit = UPPER_LIMIT\n",
    "        idx = np.random.choice(len(a.data), max_limit, replace=False)\n",
    "        \n",
    "        if c_anomaly_data is None:\n",
    "            #c_anomaly_data = np.array(a.data[0:UPPER_LIMIT])\n",
    "            #c_anomaly_target = np.array(a.labels[0:UPPER_LIMIT])\n",
    "            c_anomaly_data = np.array(a.data)[idx]\n",
    "            c_anomaly_target = np.array(a.labels)[idx]\n",
    "        else:\n",
    "            #c_anomaly_data = np.concatenate((c_anomaly_data,a.data[0:UPPER_LIMIT]))\n",
    "            #c_anomaly_target = np.concatenate((c_anomaly_target,a.labels[0:UPPER_LIMIT]),axis=None)\n",
    "            c_anomaly_data = np.concatenate((c_anomaly_data,np.array(a.data)[idx]))\n",
    "            c_anomaly_target = np.concatenate((c_anomaly_target,np.array(a.labels)[idx]),axis=None)\n",
    "        continue\n",
    "        \n",
    "    a = Pull(DATA_CLASS[data_cl],class_index)\n",
    "    if len(a.data) < UPPER_LIMIT:\n",
    "        max_limit = len(a.data)\n",
    "    else:\n",
    "        max_limit = UPPER_LIMIT\n",
    "    idx = np.random.choice(len(a.data), max_limit, replace=False)\n",
    "        \n",
    "    print(\"Loading\",data_cl,\" dataset\")\n",
    "    if c_data is None:\n",
    "        #c_data = np.array(a.data[0:UPPER_LIMIT])\n",
    "        #c_target = np.array(a.labels[0:UPPER_LIMIT])\n",
    "        c_data = np.array(a.data)[idx]\n",
    "        c_target = np.array(a.labels)[idx]\n",
    "    else:\n",
    "        #c_data = np.concatenate((c_data,a.data[0:UPPER_LIMIT]))\n",
    "        #c_target = np.concatenate((c_target,a.labels[0:UPPER_LIMIT]),axis=None)\n",
    "        c_data = np.concatenate((c_data,np.array(a.data)[idx]))\n",
    "        c_target = np.concatenate((c_target,np.array(a.labels)[idx]),axis=None)\n",
    "        \n",
    "    #print(len(a.data),len(a.labels))\n",
    "    #print(len(c_data),len(c_target))\n",
    "    #print(type(a.data),type(c_data))\n",
    "    #print(c_data[0])\n",
    "    #print(\"Flows:\",a.flow_cnt,\" Errors:\",a.errors)\n",
    "    class_index += 1\n",
    "    #input(\"Press enter\")\n",
    "\n",
    "    #runModel(MODELS[\"RandomForest\"])\n",
    "    \n",
    "    "
   ]
  },
  {
   "cell_type": "code",
   "execution_count": 7,
   "metadata": {},
   "outputs": [
    {
     "name": "stdout",
     "output_type": "stream",
     "text": [
      "1443 1443\n"
     ]
    }
   ],
   "source": [
    "print(len(c_data),len(c_target))"
   ]
  },
  {
   "cell_type": "markdown",
   "metadata": {},
   "source": [
    "# Single Models"
   ]
  },
  {
   "cell_type": "markdown",
   "metadata": {},
   "source": [
    "## Random Forest"
   ]
  },
  {
   "cell_type": "code",
   "execution_count": 64,
   "metadata": {},
   "outputs": [],
   "source": [
    "def createResultDict(no_classes):\n",
    "    tmp_struct = {}\n",
    "    for i in range(no_classes):\n",
    "        tmp_struct[i+1] = {}\n",
    "        for j in range(no_classes):\n",
    "            tmp_struct[i+1][j+1] = 0\n",
    "    return tmp_struct\n",
    "        "
   ]
  },
  {
   "cell_type": "code",
   "execution_count": 65,
   "metadata": {},
   "outputs": [
    {
     "data": {
      "text/plain": [
       "{1: {1: 0, 2: 0, 3: 0, 4: 0, 5: 0},\n",
       " 2: {1: 0, 2: 0, 3: 0, 4: 0, 5: 0},\n",
       " 3: {1: 0, 2: 0, 3: 0, 4: 0, 5: 0},\n",
       " 4: {1: 0, 2: 0, 3: 0, 4: 0, 5: 0},\n",
       " 5: {1: 0, 2: 0, 3: 0, 4: 0, 5: 0}}"
      ]
     },
     "execution_count": 65,
     "metadata": {},
     "output_type": "execute_result"
    }
   ],
   "source": [
    "createResultDict(5)"
   ]
  },
  {
   "cell_type": "code",
   "execution_count": 123,
   "metadata": {},
   "outputs": [
    {
     "name": "stdout",
     "output_type": "stream",
     "text": [
      "1 : {1: 0.9898599664224664, 2: 0, 3: 0.013888888888888888, 4: 0, 5: 0, 6: 0, 7: 0, 8: 0, 9: 0, 10: 0, 11: 0, 12: 0, 13: 0, 14: 0.009157509157509156, 15: 0, 16: 0, 17: 0, 18: 0, 19: 0.005494505494505495, 20: 0}\n",
      "2 : {1: 0.026084869431643624, 2: 0.6127877036589358, 3: 0.007142857142857143, 4: 0.02261904761904762, 5: 0.321709979602629, 6: 0, 7: 0, 8: 0, 9: 0, 10: 0, 11: 0, 12: 0, 13: 0, 14: 0, 15: 0, 16: 0.01639344262295082, 17: 0.007142857142857143, 18: 0, 19: 0.008333333333333333, 20: 0.007142857142857143}\n",
      "3 : {1: 0.019192792295944342, 2: 0.00625, 3: 0.8697241430510776, 4: 0.018411144578313256, 5: 0.02460546410996097, 6: 0, 7: 0.012783174953334465, 8: 0, 9: 0, 10: 0, 11: 0, 12: 0, 13: 0, 14: 0, 15: 0.009036144578313254, 16: 0, 17: 0.00625, 18: 0.02758145257084677, 19: 0.019814822670965553, 20: 0.020567834719158323}\n",
      "4 : {1: 0.041503384820747516, 2: 0.03155689836003051, 3: 0.03860453613653699, 4: 0.847689784640496, 5: 0.058142511509752644, 6: 0, 7: 0.03464912280701754, 8: 0.006578947368421052, 9: 0.011225981620718462, 10: 0, 11: 0, 12: 0, 13: 0, 14: 0, 15: 0, 16: 0, 17: 0.01053585049580473, 18: 0.03125, 19: 0.01842170530492899, 20: 0}\n",
      "5 : {1: 0.006097560975609756, 2: 0.0078125, 3: 0.010653409090909092, 4: 0.015309546038044112, 5: 0.8997840852361872, 6: 0.017724116161616163, 7: 0.03440500560807043, 8: 0, 9: 0.006097560975609756, 10: 0, 11: 0, 12: 0.00845959595959596, 13: 0, 14: 0, 15: 0.013157894736842105, 16: 0.012114668021680217, 17: 0, 18: 0.005681818181818182, 19: 0.008730598669623061, 20: 0.005555555555555556}\n",
      "6 : {1: 0, 2: 0, 3: 0, 4: 0.010013872030518466, 5: 0.012968540829986613, 6: 0.7763055613901373, 7: 0.022367713674898315, 8: 0, 9: 0.02863475133691155, 10: 0, 11: 0, 12: 0, 13: 0, 14: 0.00684931506849315, 15: 0, 16: 0.1805382178340177, 17: 0, 18: 0, 19: 0.006024096385542169, 20: 0}\n",
      "7 : {1: 0.013712686567164178, 2: 0, 3: 0.03488805970149254, 4: 0.031225325158405086, 5: 0.11598718387670823, 6: 0.045884274728735255, 7: 0.7388221580605892, 8: 0, 9: 0.03583179313711815, 10: 0, 11: 0, 12: 0.012248654772019259, 13: 0, 14: 0, 15: 0, 16: 0.01213558376342586, 17: 0.00625, 18: 0.00625, 19: 0.015979998055601345, 20: 0.014836448598130842}\n",
      "8 : {1: 0, 2: 0, 3: 0, 4: 0, 5: 0.1373426575508958, 6: 0, 7: 0, 8: 0.7195210610249396, 9: 0, 10: 0, 11: 0, 12: 0, 13: 0.09401752126666169, 14: 0, 15: 0, 16: 0, 17: 0, 18: 0.04109368803481842, 19: 0, 20: 0.012121355906468265}\n",
      "9 : {1: 0, 2: 0, 3: 0.005494505494505495, 4: 0.005494505494505495, 5: 0.014278484673221516, 6: 0.044907985938687695, 7: 0.07593814770349858, 8: 0, 9: 0.795887497005918, 10: 0, 11: 0.006578947368421052, 12: 0.012839506172839507, 13: 0, 14: 0, 15: 0, 16: 0.030310489137243525, 17: 0, 18: 0.005494505494505495, 19: 0.013333333333333334, 20: 0.03817105896053265}\n",
      "10 : {1: 0, 2: 0, 3: 0, 4: 0, 5: 0.006329113924050633, 6: 0.012048192771084338, 7: 0, 8: 0, 9: 0, 10: 0.9921648619795638, 11: 0, 12: 0, 13: 0, 14: 0, 15: 0, 16: 0, 17: 0, 18: 0.012048192771084338, 19: 0, 20: 0}\n",
      "11 : {1: 0, 2: 0, 3: 0.010765871505308125, 4: 0, 5: 0.011363636363636364, 6: 0, 7: 0, 8: 0, 9: 0, 10: 0, 11: 0.7008710483622456, 12: 0, 13: 0.2923255613396458, 14: 0, 15: 0, 16: 0, 17: 0, 18: 0.011363636363636364, 19: 0, 20: 0}\n",
      "12 : {1: 0, 2: 0, 3: 0.015151515151515152, 4: 0.018518518518518517, 5: 0.03367003367003367, 6: 0, 7: 0.1301608034366655, 8: 0, 9: 0.08415041216765354, 10: 0, 11: 0, 12: 0.7098717055613608, 13: 0, 14: 0, 15: 0, 16: 0.09271159874608151, 17: 0, 18: 0.0339080459770115, 19: 0, 20: 0}\n",
      "13 : {1: 0, 2: 0, 3: 0.006172839506172839, 4: 0, 5: 0, 6: 0, 7: 0, 8: 0.15776468905709243, 9: 0, 10: 0, 11: 0.5069739080684917, 12: 0, 13: 0.31877267552322586, 14: 0, 15: 0, 16: 0, 17: 0, 18: 0.01302215457466599, 19: 0.011494252873563218, 20: 0}\n",
      "14 : {1: 0.007575757575757576, 2: 0, 3: 0, 4: 0, 5: 0.015370949281675464, 6: 0, 7: 0, 8: 0, 9: 0, 10: 0, 11: 0, 12: 0, 13: 0, 14: 0.9799107898541609, 15: 0, 16: 0, 17: 0, 18: 0, 19: 0.01808367071524966, 20: 0}\n",
      "15 : {1: 0, 2: 0.006578947368421052, 3: 0, 4: 0, 5: 0.006097560975609756, 6: 0, 7: 0, 8: 0, 9: 0.006097560975609756, 10: 0.006329113924050633, 11: 0, 12: 0, 13: 0, 14: 0, 15: 0.9854002311467152, 16: 0, 17: 0, 18: 0, 19: 0, 20: 0}\n",
      "16 : {1: 0, 2: 0, 3: 0.0056179775280898875, 4: 0, 5: 0.005813953488372093, 6: 0.25977305918126103, 7: 0.014581190473194297, 8: 0, 9: 0.07738240404882613, 10: 0, 11: 0, 12: 0.011235955056179775, 13: 0, 14: 0, 15: 0, 16: 0.6338681421985746, 17: 0.006756756756756757, 18: 0, 19: 0, 20: 0}\n",
      "17 : {1: 0.009699730094466936, 2: 0.015280021310723065, 3: 0, 4: 0.024521003687670358, 5: 0, 6: 0, 7: 0, 8: 0, 9: 0, 10: 0, 11: 0, 12: 0, 13: 0, 14: 0, 15: 0.018755935422602087, 16: 0, 17: 0.9489427685699616, 18: 0.015427352050159068, 19: 0.008928571428571428, 20: 0.012987012987012988}\n",
      "18 : {1: 0.012048192771084338, 2: 0.012048192771084338, 3: 0.08342518102865673, 4: 0.01322973937744819, 5: 0.0902586638254027, 6: 0.007142857142857143, 7: 0, 8: 0.10240759140853901, 9: 0, 10: 0.012048192771084338, 11: 0.017810597515653698, 12: 0, 13: 0.019833139333613137, 14: 0, 15: 0.0175585971494324, 16: 0, 17: 0.01535092476103712, 18: 0.5431520810150497, 19: 0.0548294741806147, 20: 0.062466310842258455}\n",
      "19 : {1: 0.018290458225056788, 2: 0.009357429718875503, 3: 0.07006089649208488, 4: 0.009188653347567485, 5: 0.15807848281979425, 6: 0.01496124031007752, 7: 0.0288242247152306, 8: 0.009188653347567485, 9: 0.01316017316017316, 10: 0.01203165678553246, 11: 0.009188653347567485, 12: 0, 13: 0, 14: 0.012517602879048663, 15: 0.02170625622661615, 16: 0.012987012987012988, 17: 0.012658227848101266, 18: 0.03996000011116113, 19: 0.5720926156522146, 20: 0.05922414825510576}\n",
      "20 : {1: 0.01554894876812685, 2: 0.00684931506849315, 3: 0.022264243761556054, 4: 0.014155036772949032, 5: 0.08083981957150416, 6: 0.006329113924050633, 7: 0.014249220015866452, 8: 0.012801696020874102, 9: 0.012281494876431584, 10: 0.023809523809523808, 11: 0, 12: 0, 13: 0, 14: 0, 15: 0.020105948903417256, 16: 0, 17: 0, 18: 0.05341648770858065, 19: 0.10289467681471756, 20: 0.7235209221375122}\n",
      "[0.76892693 0.76416337 0.76400791 0.75841584 0.78283828]\n",
      "              precision    recall  f1-score   support\n",
      "\n",
      "           1       0.99      0.92      0.95        98\n",
      "           2       0.59      0.95      0.73        43\n",
      "           3       0.89      0.76      0.82        97\n",
      "           4       0.92      0.85      0.89        68\n",
      "           5       0.92      0.42      0.58       141\n",
      "           6       0.79      0.58      0.67       100\n",
      "           7       0.71      0.80      0.75        71\n",
      "           8       0.76      0.81      0.79        84\n",
      "           9       0.78      0.85      0.81        84\n",
      "          10       0.99      0.99      0.99        79\n",
      "          11       0.71      0.56      0.63        98\n",
      "          12       0.70      0.90      0.79        21\n",
      "          13       0.35      0.49      0.41        57\n",
      "          14       0.98      0.98      0.98        66\n",
      "          15       0.98      0.98      0.98        82\n",
      "          16       0.57      0.76      0.65        67\n",
      "          17       0.96      0.97      0.97        77\n",
      "          18       0.55      0.87      0.68        47\n",
      "          19       0.63      0.79      0.70        68\n",
      "          20       0.78      0.84      0.81        68\n",
      "\n",
      "   micro avg       0.78      0.78      0.78      1516\n",
      "   macro avg       0.78      0.80      0.78      1516\n",
      "weighted avg       0.81      0.78      0.78      1516\n",
      "\n",
      "0.7777044854881267\n",
      "===================\n"
     ]
    },
    {
     "ename": "ValueError",
     "evalue": "Expected 2D array, got scalar array instead:\narray=nan.\nReshape your data either using array.reshape(-1, 1) if your data has a single feature or array.reshape(1, -1) if it contains a single sample.",
     "output_type": "error",
     "traceback": [
      "\u001b[0;31m---------------------------------------------------------------------------\u001b[0m",
      "\u001b[0;31mValueError\u001b[0m                                Traceback (most recent call last)",
      "\u001b[0;32m<ipython-input-123-088e5cdc7c61>\u001b[0m in \u001b[0;36m<module>\u001b[0;34m()\u001b[0m\n\u001b[1;32m     55\u001b[0m \u001b[0mprint\u001b[0m\u001b[0;34m(\u001b[0m\u001b[0mmetrics\u001b[0m\u001b[0;34m.\u001b[0m\u001b[0maccuracy_score\u001b[0m\u001b[0;34m(\u001b[0m\u001b[0my_class\u001b[0m\u001b[0;34m,\u001b[0m\u001b[0mc_target\u001b[0m\u001b[0;34m[\u001b[0m\u001b[0mtest_index\u001b[0m\u001b[0;34m]\u001b[0m\u001b[0;34m)\u001b[0m\u001b[0;34m)\u001b[0m\u001b[0;34m\u001b[0m\u001b[0m\n\u001b[1;32m     56\u001b[0m \u001b[0mprint\u001b[0m\u001b[0;34m(\u001b[0m\u001b[0;34m\"===================\"\u001b[0m\u001b[0;34m)\u001b[0m\u001b[0;34m\u001b[0m\u001b[0m\n\u001b[0;32m---> 57\u001b[0;31m \u001b[0my_class\u001b[0m \u001b[0;34m=\u001b[0m \u001b[0mmodel\u001b[0m\u001b[0;34m.\u001b[0m\u001b[0mpredict\u001b[0m\u001b[0;34m(\u001b[0m\u001b[0mc_anomaly_data\u001b[0m\u001b[0;34m)\u001b[0m\u001b[0;34m\u001b[0m\u001b[0m\n\u001b[0m\u001b[1;32m     58\u001b[0m \u001b[0my_pred\u001b[0m \u001b[0;34m=\u001b[0m \u001b[0mmodel\u001b[0m\u001b[0;34m.\u001b[0m\u001b[0mpredict_proba\u001b[0m\u001b[0;34m(\u001b[0m\u001b[0mc_anomaly_data\u001b[0m\u001b[0;34m)\u001b[0m\u001b[0;34m\u001b[0m\u001b[0m\n\u001b[1;32m     59\u001b[0m \u001b[0;31m#print(y_pred)\u001b[0m\u001b[0;34m\u001b[0m\u001b[0;34m\u001b[0m\u001b[0m\n",
      "\u001b[0;32m/anaconda3/lib/python3.7/site-packages/sklearn/ensemble/forest.py\u001b[0m in \u001b[0;36mpredict\u001b[0;34m(self, X)\u001b[0m\n\u001b[1;32m    541\u001b[0m             \u001b[0mThe\u001b[0m \u001b[0mpredicted\u001b[0m \u001b[0mclasses\u001b[0m\u001b[0;34m.\u001b[0m\u001b[0;34m\u001b[0m\u001b[0m\n\u001b[1;32m    542\u001b[0m         \"\"\"\n\u001b[0;32m--> 543\u001b[0;31m         \u001b[0mproba\u001b[0m \u001b[0;34m=\u001b[0m \u001b[0mself\u001b[0m\u001b[0;34m.\u001b[0m\u001b[0mpredict_proba\u001b[0m\u001b[0;34m(\u001b[0m\u001b[0mX\u001b[0m\u001b[0;34m)\u001b[0m\u001b[0;34m\u001b[0m\u001b[0m\n\u001b[0m\u001b[1;32m    544\u001b[0m \u001b[0;34m\u001b[0m\u001b[0m\n\u001b[1;32m    545\u001b[0m         \u001b[0;32mif\u001b[0m \u001b[0mself\u001b[0m\u001b[0;34m.\u001b[0m\u001b[0mn_outputs_\u001b[0m \u001b[0;34m==\u001b[0m \u001b[0;36m1\u001b[0m\u001b[0;34m:\u001b[0m\u001b[0;34m\u001b[0m\u001b[0m\n",
      "\u001b[0;32m/anaconda3/lib/python3.7/site-packages/sklearn/ensemble/forest.py\u001b[0m in \u001b[0;36mpredict_proba\u001b[0;34m(self, X)\u001b[0m\n\u001b[1;32m    581\u001b[0m         \u001b[0mcheck_is_fitted\u001b[0m\u001b[0;34m(\u001b[0m\u001b[0mself\u001b[0m\u001b[0;34m,\u001b[0m \u001b[0;34m'estimators_'\u001b[0m\u001b[0;34m)\u001b[0m\u001b[0;34m\u001b[0m\u001b[0m\n\u001b[1;32m    582\u001b[0m         \u001b[0;31m# Check data\u001b[0m\u001b[0;34m\u001b[0m\u001b[0;34m\u001b[0m\u001b[0m\n\u001b[0;32m--> 583\u001b[0;31m         \u001b[0mX\u001b[0m \u001b[0;34m=\u001b[0m \u001b[0mself\u001b[0m\u001b[0;34m.\u001b[0m\u001b[0m_validate_X_predict\u001b[0m\u001b[0;34m(\u001b[0m\u001b[0mX\u001b[0m\u001b[0;34m)\u001b[0m\u001b[0;34m\u001b[0m\u001b[0m\n\u001b[0m\u001b[1;32m    584\u001b[0m \u001b[0;34m\u001b[0m\u001b[0m\n\u001b[1;32m    585\u001b[0m         \u001b[0;31m# Assign chunk of trees to jobs\u001b[0m\u001b[0;34m\u001b[0m\u001b[0;34m\u001b[0m\u001b[0m\n",
      "\u001b[0;32m/anaconda3/lib/python3.7/site-packages/sklearn/ensemble/forest.py\u001b[0m in \u001b[0;36m_validate_X_predict\u001b[0;34m(self, X)\u001b[0m\n\u001b[1;32m    360\u001b[0m                                  \"call `fit` before exploiting the model.\")\n\u001b[1;32m    361\u001b[0m \u001b[0;34m\u001b[0m\u001b[0m\n\u001b[0;32m--> 362\u001b[0;31m         \u001b[0;32mreturn\u001b[0m \u001b[0mself\u001b[0m\u001b[0;34m.\u001b[0m\u001b[0mestimators_\u001b[0m\u001b[0;34m[\u001b[0m\u001b[0;36m0\u001b[0m\u001b[0;34m]\u001b[0m\u001b[0;34m.\u001b[0m\u001b[0m_validate_X_predict\u001b[0m\u001b[0;34m(\u001b[0m\u001b[0mX\u001b[0m\u001b[0;34m,\u001b[0m \u001b[0mcheck_input\u001b[0m\u001b[0;34m=\u001b[0m\u001b[0;32mTrue\u001b[0m\u001b[0;34m)\u001b[0m\u001b[0;34m\u001b[0m\u001b[0m\n\u001b[0m\u001b[1;32m    363\u001b[0m \u001b[0;34m\u001b[0m\u001b[0m\n\u001b[1;32m    364\u001b[0m     \u001b[0;34m@\u001b[0m\u001b[0mproperty\u001b[0m\u001b[0;34m\u001b[0m\u001b[0m\n",
      "\u001b[0;32m/anaconda3/lib/python3.7/site-packages/sklearn/tree/tree.py\u001b[0m in \u001b[0;36m_validate_X_predict\u001b[0;34m(self, X, check_input)\u001b[0m\n\u001b[1;32m    375\u001b[0m         \u001b[0;34m\"\"\"Validate X whenever one tries to predict, apply, predict_proba\"\"\"\u001b[0m\u001b[0;34m\u001b[0m\u001b[0m\n\u001b[1;32m    376\u001b[0m         \u001b[0;32mif\u001b[0m \u001b[0mcheck_input\u001b[0m\u001b[0;34m:\u001b[0m\u001b[0;34m\u001b[0m\u001b[0m\n\u001b[0;32m--> 377\u001b[0;31m             \u001b[0mX\u001b[0m \u001b[0;34m=\u001b[0m \u001b[0mcheck_array\u001b[0m\u001b[0;34m(\u001b[0m\u001b[0mX\u001b[0m\u001b[0;34m,\u001b[0m \u001b[0mdtype\u001b[0m\u001b[0;34m=\u001b[0m\u001b[0mDTYPE\u001b[0m\u001b[0;34m,\u001b[0m \u001b[0maccept_sparse\u001b[0m\u001b[0;34m=\u001b[0m\u001b[0;34m\"csr\"\u001b[0m\u001b[0;34m)\u001b[0m\u001b[0;34m\u001b[0m\u001b[0m\n\u001b[0m\u001b[1;32m    378\u001b[0m             if issparse(X) and (X.indices.dtype != np.intc or\n\u001b[1;32m    379\u001b[0m                                 X.indptr.dtype != np.intc):\n",
      "\u001b[0;32m/anaconda3/lib/python3.7/site-packages/sklearn/utils/validation.py\u001b[0m in \u001b[0;36mcheck_array\u001b[0;34m(array, accept_sparse, accept_large_sparse, dtype, order, copy, force_all_finite, ensure_2d, allow_nd, ensure_min_samples, ensure_min_features, warn_on_dtype, estimator)\u001b[0m\n\u001b[1;32m    543\u001b[0m                     \u001b[0;34m\"Reshape your data either using array.reshape(-1, 1) if \"\u001b[0m\u001b[0;34m\u001b[0m\u001b[0m\n\u001b[1;32m    544\u001b[0m                     \u001b[0;34m\"your data has a single feature or array.reshape(1, -1) \"\u001b[0m\u001b[0;34m\u001b[0m\u001b[0m\n\u001b[0;32m--> 545\u001b[0;31m                     \"if it contains a single sample.\".format(array))\n\u001b[0m\u001b[1;32m    546\u001b[0m             \u001b[0;31m# If input is 1D raise error\u001b[0m\u001b[0;34m\u001b[0m\u001b[0;34m\u001b[0m\u001b[0m\n\u001b[1;32m    547\u001b[0m             \u001b[0;32mif\u001b[0m \u001b[0marray\u001b[0m\u001b[0;34m.\u001b[0m\u001b[0mndim\u001b[0m \u001b[0;34m==\u001b[0m \u001b[0;36m1\u001b[0m\u001b[0;34m:\u001b[0m\u001b[0;34m\u001b[0m\u001b[0m\n",
      "\u001b[0;31mValueError\u001b[0m: Expected 2D array, got scalar array instead:\narray=nan.\nReshape your data either using array.reshape(-1, 1) if your data has a single feature or array.reshape(1, -1) if it contains a single sample."
     ]
    }
   ],
   "source": [
    "rng = np.random.RandomState(12345)\n",
    "model = RandomForestClassifier(random_state=rng,n_estimators=10)\n",
    "\n",
    "kf = KFold(5, True)\n",
    "iteration_cnt = 0\n",
    "\n",
    "result_struct = createResultDict(20)\n",
    "\n",
    "for train_index, test_index in kf.split(c_data,c_target):\n",
    "    tmp_result_struct = {}#{1:{1:0,2:0,3:0,4:0},2:{1:0,2:0,3:0,4:0},3:{1:0,2:0,3:0,4:0},4:{1:0,2:0,3:0,4:0}}\n",
    "    iteration_cnt += 1\n",
    "    #Train\n",
    "    model.fit(c_data[train_index],c_target[train_index])\n",
    "    #Evaluate \n",
    "    y_class = model.predict(c_data[test_index])\n",
    "    y_pred = model.predict_proba(c_data[test_index])\n",
    "    \n",
    "    for i in range(len(test_index)):\n",
    "       # if c_target[i] == 1:\n",
    "        try:\n",
    "            tmp_result_struct[c_target[test_index[i]]][y_class[i]] += 1\n",
    "        except Exception as e:\n",
    "            try:\n",
    "                tmp_result_struct[c_target[test_index[i]]][y_class[i]] = 1\n",
    "            except Exception as e3:\n",
    "                tmp_result_struct[c_target[test_index[i]]] = {}\n",
    "                tmp_result_struct[c_target[test_index[i]]][y_class[i]] = 1\n",
    "                \n",
    "\n",
    "    for t_class,t_value in tmp_result_struct.items():\n",
    "        p_sum = 0\n",
    "        for p_class,p_value in t_value.items():\n",
    "            p_sum += p_value\n",
    "        for p_class,p_value in t_value.items():\n",
    "            if iteration_cnt == 1:\n",
    "                result_struct[t_class][p_class] = (p_value/p_sum)\n",
    "            else:\n",
    "                result_struct[t_class][p_class] = (result_struct[t_class][p_class]+(p_value/p_sum))/2\n",
    "\n",
    "for key,val in result_struct.items():\n",
    "    print(key,\":\",val)\n",
    "#print(result_struct)\n",
    "  \n",
    "    #for i in range(len(y_class)):\n",
    "    #    if y_class[i] != c_target[i]:\n",
    "    #        print(\"Misclassification\",y_pred[i],y_class[i],c_target[i])\n",
    "    #        input(\"Press enter\")\n",
    "    #    print(y_pred[i],y_class[i],c_target[i])\n",
    "    #    input(\"Press enter\")\n",
    "   # print(metrics.accuracy_score(y_class,c_target[test_index]))\n",
    "   # print(classification_report(y_class,c_target[test_index],output_dict=False))\n",
    "\n",
    "print(cross_val_score(model, c_data, c_target, cv=5))\n",
    "print(classification_report(y_class,c_target[test_index],output_dict=False))\n",
    "print(metrics.accuracy_score(y_class,c_target[test_index]))\n",
    "print(\"===================\")\n",
    "y_class = model.predict(c_anomaly_data)\n",
    "y_pred = model.predict_proba(c_anomaly_data)\n",
    "#print(y_pred)\n",
    "print(metrics.accuracy_score(y_class,[1]*len(c_anomaly_data.data)))\n",
    "print(metrics.accuracy_score(y_class,[2]*len(c_anomaly_data.data)))\n",
    "print(metrics.accuracy_score(y_class,[3]*len(c_anomaly_data.data)))\n",
    "print(metrics.accuracy_score(y_class,[4]*len(c_anomaly_data.data)))\n",
    "#print(classification_report(y_class,c_target[test_index],output_dict=False))\n"
   ]
  },
  {
   "cell_type": "code",
   "execution_count": null,
   "metadata": {},
   "outputs": [],
   "source": []
  },
  {
   "cell_type": "markdown",
   "metadata": {},
   "source": [
    "## AdaBoost"
   ]
  },
  {
   "cell_type": "raw",
   "metadata": {},
   "source": [
    "rng = np.random.RandomState(12345)\n",
    "model = AdaBoostClassifier(random_state=rng)\n",
    "\n",
    "kf = KFold(3, True)\n",
    "iteration_cnt = 0\n",
    "for train_index, test_index in kf.split(c_data,c_target):\n",
    "    iteration_cnt += 1\n",
    "    #Train\n",
    "    model.fit(c_data[train_index],c_target[train_index])\n",
    "    #Evaluate \n",
    "    y_class = model.predict(c_data[test_index])\n",
    "    y_pred = model.predict_proba(c_data[test_index])\n",
    "    #print(metrics.accuracy_score(y_class,c_target[test_index]))\n",
    "    print(classification_report(y_class,c_target[test_index],output_dict=False))\n",
    "\n",
    "print(cross_val_score(model, c_data, c_target, cv=3))"
   ]
  },
  {
   "cell_type": "markdown",
   "metadata": {},
   "source": [
    "## GradientBoosting"
   ]
  },
  {
   "cell_type": "raw",
   "metadata": {},
   "source": [
    "rng = np.random.RandomState(12345)\n",
    "model = GradientBoostingClassifier(random_state=rng)\n",
    "\n",
    "kf = KFold(3, True)\n",
    "iteration_cnt = 0\n",
    "for train_index, test_index in kf.split(c_data,c_target):\n",
    "    iteration_cnt += 1\n",
    "    #Train\n",
    "    model.fit(c_data[train_index],c_target[train_index])\n",
    "    #Evaluate \n",
    "    y_class = model.predict(c_data[test_index])\n",
    "    y_pred = model.predict_proba(c_data[test_index])\n",
    "    #print(metrics.accuracy_score(y_class,c_target[test_index]))\n",
    "    print(classification_report(y_class,c_target[test_index],output_dict=False))\n",
    "\n",
    "print(cross_val_score(model, c_data, c_target, cv=3))"
   ]
  },
  {
   "cell_type": "code",
   "execution_count": null,
   "metadata": {},
   "outputs": [],
   "source": []
  }
 ],
 "metadata": {
  "kernelspec": {
   "display_name": "Python 3",
   "language": "python",
   "name": "python3"
  },
  "language_info": {
   "codemirror_mode": {
    "name": "ipython",
    "version": 3
   },
   "file_extension": ".py",
   "mimetype": "text/x-python",
   "name": "python",
   "nbconvert_exporter": "python",
   "pygments_lexer": "ipython3",
   "version": "3.7.0"
  }
 },
 "nbformat": 4,
 "nbformat_minor": 2
}
