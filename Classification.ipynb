{
 "cells": [
  {
   "cell_type": "markdown",
   "metadata": {},
   "source": [
    "# Initialization"
   ]
  },
  {
   "cell_type": "code",
   "execution_count": 77,
   "metadata": {},
   "outputs": [],
   "source": [
    "import imp\n",
    "from sklearn.model_selection import KFold\n",
    "from sklearn.model_selection import train_test_split\n",
    "import numpy as np\n",
    "#from data_parser import DataParser\n",
    "from pull_data import Pull\n",
    "import os\n",
    "from sklearn.metrics import confusion_matrix\n",
    "from prettytable import PrettyTable\n",
    "from statistics import mean\n",
    "from sklearn import metrics\n",
    "from sklearn.metrics import classification_report\n",
    "from sklearn.model_selection import cross_val_score\n",
    "\n",
    "#from scikit_IsolatedForest import RandomForest\n",
    "from sklearn.ensemble import RandomForestClassifier\n",
    "#from scikit_LOFNovelty import AdaBoost\n",
    "from sklearn.ensemble import AdaBoostClassifier\n",
    "#from scikit_OneClassSVM import GradientBoosting\n",
    "from sklearn.ensemble import GradientBoostingClassifier"
   ]
  },
  {
   "cell_type": "code",
   "execution_count": 2,
   "metadata": {},
   "outputs": [],
   "source": [
    "IKEA_APP = \"dev-annotated-datasets/ikea-app\"\n",
    "IKEA_HOMEKIT = \"dev-annotated-datasets/ikea-homekit\"\n",
    "IP_CAM = \"dev-annotated-datasets/ipcam\"\n",
    "NORMAL_USER = \"dev-annotated-datasets/normal-user\"\n",
    "VOICE_ASSISTANT = \"dev-annotated-datasets/voice-assistant\""
   ]
  },
  {
   "cell_type": "markdown",
   "metadata": {},
   "source": [
    "# Function Definitions"
   ]
  },
  {
   "cell_type": "code",
   "execution_count": 52,
   "metadata": {},
   "outputs": [],
   "source": []
  },
  {
   "cell_type": "code",
   "execution_count": 53,
   "metadata": {},
   "outputs": [],
   "source": [
    "def runModel(models):\n",
    "    for key, model in models.items():\n",
    "        print(\"### Model Name:\",key,\" ###\")\n",
    "        kf = KFold(5, True)\n",
    "        iteration_cnt = 0\n",
    "        for train_index, test_index in kf.split(c_data,c_target):\n",
    "            iteration_cnt += 1\n",
    "            #Train\n",
    "            model.fit(c_data[train_index],c_target[train_index])\n",
    "            #Evaluate \n",
    "            p_class = model.predict(c_data[test_index])\n",
    "            y_pred_valid = model.predict_proba(c_data[test_index])\n",
    "            #print(p_class)"
   ]
  },
  {
   "cell_type": "markdown",
   "metadata": {},
   "source": [
    "# Pull Datasets"
   ]
  },
  {
   "cell_type": "code",
   "execution_count": 106,
   "metadata": {},
   "outputs": [
    {
     "name": "stdout",
     "output_type": "stream",
     "text": [
      "Input Data: 2214  Input Labels: 2214\n",
      "Number of features: 107\n"
     ]
    }
   ],
   "source": [
    "\n",
    "a = Pull(VOICE_ASSISTANT +\"/train/\",1)\n",
    "b = Pull(IKEA_APP +\"/train/\",2)\n",
    "c = Pull(IKEA_HOMEKIT +\"/train/\",2)\n",
    "d = Pull(IP_CAM +\"/train/\",3)\n",
    "e = Pull(NORMAL_USER +\"/train/\",4)\n",
    "c_data = np.array(a.data + b.data + c.data + d.data + e.data)\n",
    "c_target = np.array(a.labels + b.labels + c.labels + d.labels + e.labels)\n",
    "print(\"Input Data:\",len(c_data),\" Input Labels:\",len(c_target))\n",
    "print(\"Number of features:\",a.features_cnt)"
   ]
  },
  {
   "cell_type": "markdown",
   "metadata": {},
   "source": [
    "# MODELS"
   ]
  },
  {
   "cell_type": "code",
   "execution_count": 60,
   "metadata": {},
   "outputs": [],
   "source": [
    "MODELS = {}\n",
    "MODELS[\"RandomForest\"] = {}\n",
    "MODELS[\"AdaBoost\"] = {}\n",
    "MODELS[\"GradientBoosting\"] = {}\n",
    "rng = np.random.RandomState(12345)\n",
    "\n",
    "MODELS[\"RandomForest\"][\"RF1\"] = RandomForestClassifier(random_state=rng,n_estimators=10)\n",
    "MODELS[\"AB1\"] = AdaBoostClassifier(random_state=rng)\n",
    "MODELS[\"GradientBoosting\"] = GradientBoostingClassifier(random_state=rng)\n"
   ]
  },
  {
   "cell_type": "code",
   "execution_count": 98,
   "metadata": {},
   "outputs": [],
   "source": [
    "#runModel(MODELS[\"RandomForest\"])"
   ]
  },
  {
   "cell_type": "markdown",
   "metadata": {},
   "source": [
    "# Single Models"
   ]
  },
  {
   "cell_type": "markdown",
   "metadata": {},
   "source": [
    "## Random Forest"
   ]
  },
  {
   "cell_type": "code",
   "execution_count": 107,
   "metadata": {},
   "outputs": [
    {
     "name": "stdout",
     "output_type": "stream",
     "text": [
      "              precision    recall  f1-score   support\n",
      "\n",
      "           1       0.89      0.92      0.91       115\n",
      "           2       1.00      0.94      0.97       189\n",
      "           3       0.92      0.93      0.92        99\n",
      "           4       0.96      0.98      0.97       335\n",
      "\n",
      "   micro avg       0.95      0.95      0.95       738\n",
      "   macro avg       0.94      0.94      0.94       738\n",
      "weighted avg       0.95      0.95      0.95       738\n",
      "\n",
      "              precision    recall  f1-score   support\n",
      "\n",
      "           1       0.84      0.91      0.87        97\n",
      "           2       0.99      0.93      0.96       192\n",
      "           3       0.93      0.90      0.92       126\n",
      "           4       0.96      0.98      0.97       323\n",
      "\n",
      "   micro avg       0.95      0.95      0.95       738\n",
      "   macro avg       0.93      0.93      0.93       738\n",
      "weighted avg       0.95      0.95      0.95       738\n",
      "\n",
      "              precision    recall  f1-score   support\n",
      "\n",
      "           1       0.88      0.96      0.92        99\n",
      "           2       0.98      0.96      0.97       178\n",
      "           3       0.96      0.85      0.90       114\n",
      "           4       0.96      0.98      0.97       347\n",
      "\n",
      "   micro avg       0.95      0.95      0.95       738\n",
      "   macro avg       0.94      0.94      0.94       738\n",
      "weighted avg       0.95      0.95      0.95       738\n",
      "\n",
      "[0.94054054 0.95392954 0.88586957]\n"
     ]
    }
   ],
   "source": [
    "rng = np.random.RandomState(12345)\n",
    "model = RandomForestClassifier(random_state=rng,n_estimators=10)\n",
    "\n",
    "kf = KFold(3, True)\n",
    "iteration_cnt = 0\n",
    "for train_index, test_index in kf.split(c_data,c_target):\n",
    "    iteration_cnt += 1\n",
    "    #Train\n",
    "    model.fit(c_data[train_index],c_target[train_index])\n",
    "    #Evaluate \n",
    "    y_class = model.predict(c_data[test_index])\n",
    "    y_pred = model.predict_proba(c_data[test_index])\n",
    "    #print(metrics.accuracy_score(y_class,c_target[test_index]))\n",
    "    print(classification_report(y_class,c_target[test_index],output_dict=False))\n",
    "\n",
    "print(cross_val_score(model, c_data, c_target, cv=3))\n"
   ]
  },
  {
   "cell_type": "markdown",
   "metadata": {},
   "source": [
    "## AdaBoost"
   ]
  },
  {
   "cell_type": "code",
   "execution_count": 108,
   "metadata": {},
   "outputs": [
    {
     "name": "stdout",
     "output_type": "stream",
     "text": [
      "              precision    recall  f1-score   support\n",
      "\n",
      "           1       0.70      0.77      0.73       101\n",
      "           2       0.86      0.59      0.70       275\n",
      "           3       0.86      0.84      0.85       103\n",
      "           4       0.63      0.82      0.71       259\n",
      "\n",
      "   micro avg       0.73      0.73      0.73       738\n",
      "   macro avg       0.76      0.76      0.75       738\n",
      "weighted avg       0.76      0.73      0.73       738\n",
      "\n",
      "              precision    recall  f1-score   support\n",
      "\n",
      "           1       0.70      0.45      0.54       173\n",
      "           2       0.60      0.73      0.66       151\n",
      "           3       0.67      0.82      0.73        88\n",
      "           4       0.79      0.81      0.80       326\n",
      "\n",
      "   micro avg       0.71      0.71      0.71       738\n",
      "   macro avg       0.69      0.70      0.68       738\n",
      "weighted avg       0.71      0.71      0.70       738\n",
      "\n",
      "              precision    recall  f1-score   support\n",
      "\n",
      "           1       0.41      0.51      0.45        89\n",
      "           2       0.62      0.67      0.64       147\n",
      "           3       0.74      0.88      0.80        96\n",
      "           4       0.81      0.71      0.75       406\n",
      "\n",
      "   micro avg       0.70      0.70      0.70       738\n",
      "   macro avg       0.64      0.69      0.66       738\n",
      "weighted avg       0.71      0.70      0.70       738\n",
      "\n",
      "[0.72027027 0.79539295 0.58967391]\n"
     ]
    }
   ],
   "source": [
    "rng = np.random.RandomState(12345)\n",
    "model = AdaBoostClassifier(random_state=rng)\n",
    "\n",
    "kf = KFold(3, True)\n",
    "iteration_cnt = 0\n",
    "for train_index, test_index in kf.split(c_data,c_target):\n",
    "    iteration_cnt += 1\n",
    "    #Train\n",
    "    model.fit(c_data[train_index],c_target[train_index])\n",
    "    #Evaluate \n",
    "    y_class = model.predict(c_data[test_index])\n",
    "    y_pred = model.predict_proba(c_data[test_index])\n",
    "    #print(metrics.accuracy_score(y_class,c_target[test_index]))\n",
    "    print(classification_report(y_class,c_target[test_index],output_dict=False))\n",
    "\n",
    "print(cross_val_score(model, c_data, c_target, cv=3))"
   ]
  },
  {
   "cell_type": "markdown",
   "metadata": {},
   "source": [
    "## GradientBoosting"
   ]
  },
  {
   "cell_type": "code",
   "execution_count": 109,
   "metadata": {},
   "outputs": [
    {
     "name": "stdout",
     "output_type": "stream",
     "text": [
      "              precision    recall  f1-score   support\n",
      "\n",
      "           1       0.85      0.96      0.90        92\n",
      "           2       1.00      0.94      0.97       180\n",
      "           3       0.95      0.92      0.93       118\n",
      "           4       0.97      0.99      0.98       348\n",
      "\n",
      "   micro avg       0.96      0.96      0.96       738\n",
      "   macro avg       0.94      0.95      0.95       738\n",
      "weighted avg       0.96      0.96      0.96       738\n",
      "\n",
      "              precision    recall  f1-score   support\n",
      "\n",
      "           1       0.84      0.94      0.89       102\n",
      "           2       0.98      0.91      0.95       186\n",
      "           3       0.93      0.90      0.91       112\n",
      "           4       0.96      0.97      0.96       338\n",
      "\n",
      "   micro avg       0.94      0.94      0.94       738\n",
      "   macro avg       0.93      0.93      0.93       738\n",
      "weighted avg       0.94      0.94      0.94       738\n",
      "\n",
      "              precision    recall  f1-score   support\n",
      "\n",
      "           1       0.83      1.00      0.91        96\n",
      "           2       0.98      0.95      0.97       197\n",
      "           3       0.95      0.84      0.89       113\n",
      "           4       0.98      0.98      0.98       332\n",
      "\n",
      "   micro avg       0.95      0.95      0.95       738\n",
      "   macro avg       0.94      0.94      0.94       738\n",
      "weighted avg       0.96      0.95      0.95       738\n",
      "\n",
      "[0.95405405 0.9498645  0.88858696]\n"
     ]
    }
   ],
   "source": [
    "rng = np.random.RandomState(12345)\n",
    "model = GradientBoostingClassifier(random_state=rng)\n",
    "\n",
    "kf = KFold(3, True)\n",
    "iteration_cnt = 0\n",
    "for train_index, test_index in kf.split(c_data,c_target):\n",
    "    iteration_cnt += 1\n",
    "    #Train\n",
    "    model.fit(c_data[train_index],c_target[train_index])\n",
    "    #Evaluate \n",
    "    y_class = model.predict(c_data[test_index])\n",
    "    y_pred = model.predict_proba(c_data[test_index])\n",
    "    #print(metrics.accuracy_score(y_class,c_target[test_index]))\n",
    "    print(classification_report(y_class,c_target[test_index],output_dict=False))\n",
    "\n",
    "print(cross_val_score(model, c_data, c_target, cv=3))"
   ]
  },
  {
   "cell_type": "code",
   "execution_count": null,
   "metadata": {},
   "outputs": [],
   "source": []
  }
 ],
 "metadata": {
  "kernelspec": {
   "display_name": "Python 3",
   "language": "python",
   "name": "python3"
  },
  "language_info": {
   "codemirror_mode": {
    "name": "ipython",
    "version": 3
   },
   "file_extension": ".py",
   "mimetype": "text/x-python",
   "name": "python",
   "nbconvert_exporter": "python",
   "pygments_lexer": "ipython3",
   "version": "3.7.0"
  }
 },
 "nbformat": 4,
 "nbformat_minor": 2
}
