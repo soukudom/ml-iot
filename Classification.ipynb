{
 "cells": [
  {
   "cell_type": "markdown",
   "metadata": {},
   "source": [
    "# Initialization"
   ]
  },
  {
   "cell_type": "code",
   "execution_count": 1,
   "metadata": {},
   "outputs": [],
   "source": [
    "import imp\n",
    "from sklearn.model_selection import KFold\n",
    "from sklearn.model_selection import train_test_split\n",
    "import numpy as np\n",
    "#from data_parser import DataParser\n",
    "from pull_data import Pull\n",
    "import os\n",
    "from sklearn.metrics import confusion_matrix\n",
    "from prettytable import PrettyTable\n",
    "from statistics import mean\n",
    "from sklearn import metrics\n",
    "from sklearn.metrics import classification_report\n",
    "from sklearn.model_selection import cross_val_score\n",
    "\n",
    "#from scikit_IsolatedForest import RandomForest\n",
    "from sklearn.ensemble import RandomForestClassifier\n",
    "#from scikit_LOFNovelty import AdaBoost\n",
    "from sklearn.ensemble import AdaBoostClassifier\n",
    "#from scikit_OneClassSVM import GradientBoosting\n",
    "from sklearn.ensemble import GradientBoostingClassifier"
   ]
  },
  {
   "cell_type": "code",
   "execution_count": 107,
   "metadata": {},
   "outputs": [],
   "source": [
    "DATA_CLASS = {\n",
    "    # CESNET DATASET\n",
    "    \"IKEA_APP\" : \"dev-annotated-datasets/ikea-app/train\",\n",
    "    #\"IKEA_HOMEKIT_CLEAR\" : \"dev-annotated-datasets/ikea-app/anomaly\",\n",
    "    #\"IKEA_HOMEKIT\" : \"dev-annotated-datasets/ikea-homekit/train\",\n",
    "    \"IP_CAM\" : \"dev-annotated-datasets/ipcam/train\",\n",
    "    #\"IP_CAM_MISCONFIG\" : \"dev-annotated-datasets/ipcam/anomaly_cam\",\n",
    "    \"NORMAL_USER\" : \"dev-annotated-datasets/normal-user/train\",\n",
    "    \"VOICE_ASSISTANT\" : \"dev-annotated-datasets/voice-assistant/train\",\n",
    "    \n",
    "    # UNSW DATASET\n",
    "    ## HUBS\n",
    "    \"AMAZON_ECHO\" : \"../data-sets/unsw-traces-device/Amazon-Echo\",\n",
    "    \"SMART_THINGS\" : \"../data-sets/unsw-traces-device/Smart-Things\",\n",
    "    ## CAMERAS\n",
    "    \"NETAMO_WELCOME\" : \"../data-sets/unsw-traces-device/Netatmo-Welcome\",\n",
    "    #\"TP-Link-Day-Night-Cloud-Camera\" : \"../data-sets/unsw-traces-device/TP-Link-Day-Night-Cloud-Camera\",\n",
    "    \"Samsung-Smart-Cam\" : \"../data-sets/unsw-traces-device/Samsung-Smart-Cam\",\n",
    "    \"INSTEON_CAM\" : \"../data-sets/unsw-traces-device/Insteon-Camera\",\n",
    "    #\"DROP_CAM\" : \"../data-sets/unsw-traces-device/Dropcam\",\n",
    "    \"WITHINGS_SMART_BABY_MONITOR\" : \"../data-sets/unsw-traces-device/Withings-Smart-Baby-Monitor\",\n",
    "    ## SWITCHES AND TRIGGERS\n",
    "    \"BELKIN_WEMO_SWITCH\" : \"../data-sets/unsw-traces-device/Belkin-Wemo-Switch\",\n",
    "    \"TP-Link-Smart-Plug\" : \"../data-sets/unsw-traces-device/TP-Link-Smart-Plug\",\n",
    "    #\"iHome\" : \"../data-sets/unsw-traces-device/iHome\",\n",
    "    \"BELKIN_WEMO_MOTION_SENSOR\" : \"../data-sets/unsw-traces-device/Belkin-Wemo-Motion-Sensor\",\n",
    "    ## AIR QUALITY SENSORS\n",
    "    #\"NEST-Protect-Smoke-Alarm\" : \"../data-sets/unsw-traces-device/NEST-Protect-Smoke-Alarm\",\n",
    "    \"Netatmo-Weather-Station\" : \"../data-sets/unsw-traces-device/Netatmo-Weather-Station\",\n",
    "    ## HEATLTHCARE DEVICE\n",
    "    #\"Withings-Smart-Scale\" : \"../data-sets/unsw-traces-device/Withings-Smart-Scale\",\n",
    "    #\"Blipcare-Blood-Pressure-Meter\" : \"../data-sets/unsw-traces-device/Blipcare-Blood-Pressure-Meter\",\n",
    "    \"Withings-Aura-Smart-Sleep-Sensor\" : \"../data-sets/unsw-traces-device/Withings-Aura-Smart-Sleep-Sensor\",\n",
    "    ## LIGHT BULBS\n",
    "    \"Light-Bulbs-LiFX-Smart-Bulb\" : \"../data-sets/unsw-traces-device/Light-Bulbs-LiFX-Smart-Bulb\",\n",
    "    ## ELECTRONIC\n",
    "    #\"Triby-Speaker\" : \"../data-sets/unsw-traces-device/Triby-Speaker\",\n",
    "    #\"PIX-STAR-Photo-Frame\" : \"../data-sets/unsw-traces-device/PIX-STAR-Photo-Frame\",\n",
    "    \"HP-Printer\" : \"../data-sets/unsw-traces-device/HP-Printer\",\n",
    "    ## NON-IOT\n",
    "    \"Laptop\" : \"../data-sets/unsw-traces-device/Laptop\",\n",
    "    \"ANDROID_PHONE\" : \"../data-sets/unsw-traces-device/Android-Phone\",\n",
    "    \"Samsung-Galaxy-Tab\" : \"../data-sets/unsw-traces-device/Samsung-Galaxy-Tab\",\n",
    "    #\"IPhone\" : \"../data-sets/unsw-traces-device/IPhone\",\n",
    "    \n",
    "    # CTU13 BOTNET ATTACKS DATASET\n",
    "    #\"BOTNET_SOGOU\" : \"../data-sets/botnet/sogou\",\n",
    "    #\"BOTNET_RBOT\" : \"../data-sets/botnet/rbot\",\n",
    "     \"BOTNET_NERIS\" : \"../data-sets/botnet/neris\"\n",
    "}"
   ]
  },
  {
   "cell_type": "markdown",
   "metadata": {},
   "source": [
    "# Function Definitions"
   ]
  },
  {
   "cell_type": "code",
   "execution_count": null,
   "metadata": {},
   "outputs": [],
   "source": []
  },
  {
   "cell_type": "code",
   "execution_count": 3,
   "metadata": {},
   "outputs": [],
   "source": [
    "def runModel(models):\n",
    "    for key, model in models.items():\n",
    "        print(\"### Model Name:\",key,\" ###\")\n",
    "        kf = KFold(5, True)\n",
    "        iteration_cnt = 0\n",
    "        for train_index, test_index in kf.split(c_data,c_target):\n",
    "            iteration_cnt += 1\n",
    "            #Train\n",
    "            model.fit(c_data[train_index],c_target[train_index])\n",
    "            #Evaluate \n",
    "            p_class = model.predict(c_data[test_index])\n",
    "            y_pred_valid = model.predict_proba(c_data[test_index])\n",
    "            #print(p_class)"
   ]
  },
  {
   "cell_type": "markdown",
   "metadata": {},
   "source": [
    "# Pull Datasets"
   ]
  },
  {
   "cell_type": "raw",
   "metadata": {},
   "source": [
    "\n",
    "a = Pull(VOICE_ASSISTANT +\"/train/\",1)\n",
    "b = Pull(IKEA_APP +\"/train/\",2)\n",
    "c = Pull(IKEA_HOMEKIT +\"/train/\",2)\n",
    "d = Pull(IP_CAM +\"/train/\",3)\n",
    "e = Pull(NORMAL_USER +\"/train/\",4)\n",
    "c_anomaly = np.array(Pull(IP_CAM+\"/anomaly\",3).data)\n",
    "c_data = np.array(a.data + b.data)# + c.data + d.data)# + e.data)\n",
    "c_target = np.array(a.labels + b.labels)# + c.labels + d.labels)# + e.labels)\n",
    "print(\"Input Data:\",len(c_data),\" Input Labels:\",len(c_target))\n",
    "print(\"Number of features:\",a.features_cnt)"
   ]
  },
  {
   "cell_type": "markdown",
   "metadata": {},
   "source": [
    "# MODELS"
   ]
  },
  {
   "cell_type": "code",
   "execution_count": 4,
   "metadata": {},
   "outputs": [],
   "source": [
    "MODELS = {}\n",
    "MODELS[\"RandomForest\"] = {}\n",
    "MODELS[\"AdaBoost\"] = {}\n",
    "MODELS[\"GradientBoosting\"] = {}\n",
    "rng = np.random.RandomState(12345)\n",
    "\n",
    "MODELS[\"RandomForest\"][\"RF1\"] = RandomForestClassifier(random_state=rng,n_estimators=10)\n",
    "MODELS[\"AB1\"] = AdaBoostClassifier(random_state=rng)\n",
    "MODELS[\"GradientBoosting\"] = GradientBoostingClassifier(random_state=rng)\n"
   ]
  },
  {
   "cell_type": "code",
   "execution_count": 5,
   "metadata": {},
   "outputs": [],
   "source": [
    "#runModel(MODELS[\"RandomForest\"])"
   ]
  },
  {
   "cell_type": "markdown",
   "metadata": {},
   "source": [
    "# Evaluation"
   ]
  },
  {
   "cell_type": "code",
   "execution_count": 110,
   "metadata": {},
   "outputs": [
    {
     "name": "stdout",
     "output_type": "stream",
     "text": [
      "Loading IKEA_APP  dataset\n",
      "Loading IP_CAM  dataset\n",
      "Loading NORMAL_USER  dataset\n",
      "Loading VOICE_ASSISTANT  dataset\n",
      "Loading AMAZON_ECHO  dataset\n",
      "Loading SMART_THINGS  dataset\n",
      "Loading NETAMO_WELCOME  dataset\n",
      "Loading Samsung-Smart-Cam  dataset\n",
      "Loading INSTEON_CAM  dataset\n",
      "Loading WITHINGS_SMART_BABY_MONITOR  dataset\n",
      "Loading BELKIN_WEMO_SWITCH  dataset\n",
      "Loading TP-Link-Smart-Plug  dataset\n",
      "Loading BELKIN_WEMO_MOTION_SENSOR  dataset\n",
      "Loading Netatmo-Weather-Station  dataset\n",
      "Loading Withings-Aura-Smart-Sleep-Sensor  dataset\n",
      "Loading Light-Bulbs-LiFX-Smart-Bulb  dataset\n",
      "Loading HP-Printer  dataset\n",
      "Loading Laptop  dataset\n",
      "Loading ANDROID_PHONE  dataset\n",
      "Loading Samsung-Galaxy-Tab  dataset\n"
     ]
    }
   ],
   "source": [
    "UPPER_LIMIT = 400\n",
    "ANOMALY = [\"BOTNET_NERIS\"]\n",
    "class_index = 1\n",
    "c_data = None\n",
    "c_target = None\n",
    "c_anomaly_data = None\n",
    "c_anomaly_target = None\n",
    "\n",
    "for data_cl in DATA_CLASS: \n",
    "    \n",
    "    if data_cl in ANOMALY:\n",
    "        a = Pull(DATA_CLASS[data_cl],999)\n",
    "        if len(a.data) < UPPER_LIMIT:\n",
    "            max_limit = len(a.data)\n",
    "        else:\n",
    "            max_limit = UPPER_LIMIT\n",
    "        idx = np.random.choice(len(a.data), max_limit, replace=False)\n",
    "        \n",
    "        if c_anomaly_data is None:\n",
    "            #c_anomaly_data = np.array(a.data[0:UPPER_LIMIT])\n",
    "            #c_anomaly_target = np.array(a.labels[0:UPPER_LIMIT])\n",
    "            c_anomaly_data = np.array(a.data)[idx]\n",
    "            c_anomaly_target = np.array(a.labels)[idx]\n",
    "        else:\n",
    "            #c_anomaly_data = np.concatenate((c_anomaly_data,a.data[0:UPPER_LIMIT]))\n",
    "            #c_anomaly_target = np.concatenate((c_anomaly_target,a.labels[0:UPPER_LIMIT]),axis=None)\n",
    "            c_anomaly_data = np.concatenate((c_anomaly_data,np.array(a.data)[idx]))\n",
    "            c_anomaly_target = np.concatenate((c_anomaly_target,np.array(a.labels)[idx]),axis=None)\n",
    "        continue\n",
    "        \n",
    "    a = Pull(DATA_CLASS[data_cl],class_index)\n",
    "    if len(a.data) < UPPER_LIMIT:\n",
    "        max_limit = len(a.data)\n",
    "    else:\n",
    "        max_limit = UPPER_LIMIT\n",
    "    idx = np.random.choice(len(a.data), max_limit, replace=False)\n",
    "        \n",
    "    print(\"Loading\",data_cl,\" dataset\")\n",
    "    if c_data is None:\n",
    "        #c_data = np.array(a.data[0:UPPER_LIMIT])\n",
    "        #c_target = np.array(a.labels[0:UPPER_LIMIT])\n",
    "        c_data = np.array(a.data)[idx]\n",
    "        c_target = np.array(a.labels)[idx]\n",
    "    else:\n",
    "        #c_data = np.concatenate((c_data,a.data[0:UPPER_LIMIT]))\n",
    "        #c_target = np.concatenate((c_target,a.labels[0:UPPER_LIMIT]),axis=None)\n",
    "        c_data = np.concatenate((c_data,np.array(a.data)[idx]))\n",
    "        c_target = np.concatenate((c_target,np.array(a.labels)[idx]),axis=None)\n",
    "        \n",
    "    #print(len(a.data),len(a.labels))\n",
    "    #print(len(c_data),len(c_target))\n",
    "    #print(type(a.data),type(c_data))\n",
    "    #print(c_data[0])\n",
    "    #print(\"Flows:\",a.flow_cnt,\" Errors:\",a.errors)\n",
    "    class_index += 1\n",
    "    #input(\"Press enter\")\n",
    "\n",
    "    #runModel(MODELS[\"RandomForest\"])\n",
    "    \n",
    "    "
   ]
  },
  {
   "cell_type": "code",
   "execution_count": 7,
   "metadata": {},
   "outputs": [
    {
     "name": "stdout",
     "output_type": "stream",
     "text": [
      "1443 1443\n"
     ]
    }
   ],
   "source": [
    "print(len(c_data),len(c_target))"
   ]
  },
  {
   "cell_type": "markdown",
   "metadata": {},
   "source": [
    "# Single Models"
   ]
  },
  {
   "cell_type": "markdown",
   "metadata": {},
   "source": [
    "## Random Forest"
   ]
  },
  {
   "cell_type": "code",
   "execution_count": 64,
   "metadata": {},
   "outputs": [],
   "source": [
    "def createResultDict(no_classes):\n",
    "    tmp_struct = {}\n",
    "    for i in range(no_classes):\n",
    "        tmp_struct[i+1] = {}\n",
    "        for j in range(no_classes):\n",
    "            tmp_struct[i+1][j+1] = 0\n",
    "    return tmp_struct\n",
    "        "
   ]
  },
  {
   "cell_type": "code",
   "execution_count": 65,
   "metadata": {},
   "outputs": [
    {
     "data": {
      "text/plain": [
       "{1: {1: 0, 2: 0, 3: 0, 4: 0, 5: 0},\n",
       " 2: {1: 0, 2: 0, 3: 0, 4: 0, 5: 0},\n",
       " 3: {1: 0, 2: 0, 3: 0, 4: 0, 5: 0},\n",
       " 4: {1: 0, 2: 0, 3: 0, 4: 0, 5: 0},\n",
       " 5: {1: 0, 2: 0, 3: 0, 4: 0, 5: 0}}"
      ]
     },
     "execution_count": 65,
     "metadata": {},
     "output_type": "execute_result"
    }
   ],
   "source": [
    "createResultDict(5)"
   ]
  },
  {
   "cell_type": "code",
   "execution_count": 113,
   "metadata": {},
   "outputs": [
    {
     "name": "stdout",
     "output_type": "stream",
     "text": [
      "1 : {1: 0.980242713606989, 2: 0, 3: 0.006666666666666667, 4: 0.02197802197802198, 5: 0, 6: 0, 7: 0, 8: 0, 9: 0, 10: 0, 11: 0, 12: 0, 13: 0, 14: 0.012073452862926548, 15: 0, 16: 0, 17: 0, 18: 0.0136986301369863, 19: 0.012161172161172162, 20: 0}\n",
      "2 : {1: 0.029553699233361104, 2: 0.5968786466740651, 3: 0.008064516129032258, 4: 0.028099798387096774, 5: 0.35296159530481136, 6: 0, 7: 0, 8: 0, 9: 0, 10: 0, 11: 0, 12: 0, 13: 0, 14: 0, 15: 0, 16: 0.015873015873015872, 17: 0.017239583333333336, 18: 0.0078125, 19: 0, 20: 0.015625}\n",
      "3 : {1: 0.026384711779448622, 2: 0, 3: 0.8704966460268317, 4: 0.013157894736842105, 5: 0.012537593984962406, 6: 0, 7: 0.012515664160401003, 8: 0, 9: 0.005952380952380952, 10: 0, 11: 0, 12: 0, 13: 0, 14: 0, 15: 0, 16: 0, 17: 0.0058823529411764705, 18: 0.02161626492702344, 19: 0.04147759103641457, 20: 0.018781328320802003}\n",
      "4 : {1: 0.03914975560792529, 2: 0.03822626632917285, 3: 0.01694246239562422, 4: 0.8138325732448866, 5: 0.05694748116144424, 6: 0.018518518518518517, 7: 0.025664440953129093, 8: 0, 9: 0.007462686567164179, 10: 0, 11: 0, 12: 0, 13: 0.013157894736842105, 14: 0, 15: 0, 16: 0.007462686567164179, 17: 0, 18: 0, 19: 0.011666666666666667, 20: 0.009956140350877194}\n",
      "5 : {1: 0, 2: 0.012658227848101266, 3: 0.013602131826863931, 4: 0.006329113924050633, 5: 0.9035868820023547, 6: 0.015872357473534267, 7: 0.027059962540931376, 8: 0, 9: 0.0262288616635964, 10: 0, 11: 0, 12: 0.005434782608695652, 13: 0, 14: 0, 15: 0.02531645569620253, 16: 0.01039723076097024, 17: 0, 18: 0.005434782608695652, 19: 0.005434782608695652, 20: 0.005434782608695652}\n",
      "6 : {1: 0, 2: 0, 3: 0, 4: 0.016003355472533554, 5: 0, 6: 0.6913940419785956, 7: 0.03399947753396029, 8: 0, 9: 0.025930538259305382, 10: 0, 11: 0, 12: 0, 13: 0, 14: 0, 15: 0, 16: 0.24845476642905198, 17: 0, 18: 0, 19: 0, 20: 0.00625}\n",
      "7 : {1: 0, 2: 0, 3: 0.024742914629518005, 4: 0.01849701426268437, 5: 0.1287397512842702, 6: 0.049218890448695575, 7: 0.7360688406435686, 8: 0, 9: 0.020422942244852638, 10: 0, 11: 0, 12: 0.006172839506172839, 13: 0, 14: 0, 15: 0, 16: 0.009462313190383365, 17: 0.005952380952380952, 18: 0.006578947368421052, 19: 0.021284838253040006, 20: 0.0125}\n",
      "8 : {1: 0, 2: 0, 3: 0, 4: 0.006493506493506494, 5: 0.12029566588571619, 6: 0, 7: 0, 8: 0.6868680285583616, 9: 0, 10: 0, 11: 0, 12: 0, 13: 0.1322643133180249, 14: 0, 15: 0, 16: 0, 17: 0, 18: 0.05668090909423684, 19: 0, 20: 0.005154639175257732}\n",
      "9 : {1: 0, 2: 0, 3: 0, 4: 0.012048192771084338, 5: 0.012353210309592803, 6: 0.04727305547717442, 7: 0.025161746362421814, 8: 0, 9: 0.8531120569134383, 10: 0, 11: 0, 12: 0.03585771658060814, 13: 0, 14: 0, 15: 0, 16: 0.025523517332943578, 17: 0, 18: 0, 19: 0, 20: 0.03363608084481919}\n",
      "10 : {1: 0, 2: 0, 3: 0, 4: 0, 5: 0, 6: 0, 7: 0, 8: 0, 9: 0, 10: 0.9953271028037383, 11: 0, 12: 0, 13: 0, 14: 0, 15: 0, 16: 0, 17: 0, 18: 0, 19: 0, 20: 0.004672897196261682}\n",
      "11 : {1: 0.006024096385542169, 2: 0, 3: 0.006024096385542169, 4: 0, 5: 0, 6: 0, 7: 0, 8: 0, 9: 0, 10: 0, 11: 0.6868897884045677, 12: 0, 13: 0.3102883980253625, 14: 0, 15: 0, 16: 0, 17: 0, 18: 0.021052631578947368, 19: 0, 20: 0}\n",
      "12 : {1: 0.02, 2: 0, 3: 0, 4: 0.035625000000000004, 5: 0.03666666666666667, 6: 0.03338721264367816, 7: 0.09036817528735633, 8: 0, 9: 0.1280280172413793, 10: 0, 11: 0, 12: 0.6957130028735632, 13: 0, 14: 0, 15: 0, 16: 0.05364942528735632, 17: 0, 18: 0, 19: 0, 20: 0}\n",
      "13 : {1: 0, 2: 0, 3: 0, 4: 0, 5: 0, 6: 0, 7: 0, 8: 0.2046771204367901, 9: 0, 10: 0, 11: 0.43179310495620604, 12: 0, 13: 0.3290720209624838, 14: 0, 15: 0, 16: 0, 17: 0, 18: 0.027329101125033596, 19: 0, 20: 0.012658227848101266}\n",
      "14 : {1: 0.011787330316742083, 2: 0, 3: 0, 4: 0, 5: 0.023076923076923078, 6: 0, 7: 0.0058823529411764705, 8: 0, 9: 0, 10: 0, 11: 0, 12: 0, 13: 0, 14: 0.9851018099547512, 15: 0, 16: 0, 17: 0, 18: 0, 19: 0, 20: 0}\n",
      "15 : {1: 0, 2: 0, 3: 0, 4: 0, 5: 0.012987012987012988, 6: 0, 7: 0, 8: 0, 9: 0, 10: 0, 11: 0, 12: 0, 13: 0, 14: 0, 15: 0.9938627344877344, 16: 0, 17: 0.012049062049062049, 18: 0.005555555555555556, 19: 0, 20: 0.00625}\n",
      "16 : {1: 0, 2: 0, 3: 0.006578947368421052, 4: 0.005050505050505051, 5: 0.00819672131147541, 6: 0.2926684570342897, 7: 0.024497462919594065, 8: 0, 9: 0.04685438680531433, 10: 0, 11: 0, 12: 0.014276695526695528, 13: 0, 14: 0, 15: 0, 16: 0.6278258791227946, 17: 0.006578947368421052, 18: 0, 19: 0.00625, 20: 0}\n",
      "17 : {1: 0.005319148936170213, 2: 0.029678362573099415, 3: 0.008791371158392434, 4: 0.013599692306201724, 5: 0, 6: 0, 7: 0, 8: 0, 9: 0, 10: 0, 11: 0, 12: 0, 13: 0, 14: 0, 15: 0, 16: 0, 17: 0.9571652516611774, 18: 0.013599692306201724, 19: 0.005319148936170213, 20: 0.01808367071524966}\n",
      "18 : {1: 0.004672897196261682, 2: 0.01444906444906445, 3: 0.0812433358762675, 4: 0.025593328581523366, 5: 0.093854282457947, 6: 0, 7: 0.011808524726626055, 8: 0.13740770998210744, 9: 0, 10: 0.020647852106902773, 11: 0.012036178692597778, 12: 0.006578947368421052, 13: 0.028729446461861614, 14: 0, 15: 0.017799175693912535, 16: 0.006578947368421052, 17: 0.01219757490662557, 18: 0.48196420530409706, 19: 0.04116448616879015, 20: 0.05219671717765668}\n",
      "19 : {1: 0.008688302907369844, 2: 0.011904761904761904, 3: 0.06272970395054574, 4: 0.02705898451334557, 5: 0.1008378207604881, 6: 0.006944444444444444, 7: 0.020268480955600632, 8: 0.009818007662835249, 9: 0, 10: 0.011494252873563218, 11: 0, 12: 0.01984126984126984, 13: 0, 14: 0.006944444444444444, 15: 0.013375350140056022, 16: 0, 17: 0.009818007662835249, 18: 0.05144110805241636, 19: 0.6270245741974951, 20: 0.07161551402170063}\n",
      "20 : {1: 0.013333333333333334, 2: 0.01248236331569665, 3: 0.0518105490746053, 4: 0.011976477337923121, 5: 0.05839819716576744, 6: 0.011904761904761904, 7: 0.012413712087406867, 8: 0.018568622735289402, 9: 0.033775100401606424, 10: 0.009506172839506173, 11: 0, 12: 0, 13: 0, 14: 0, 15: 0.024521003687670354, 16: 0, 17: 0.009419592752926087, 18: 0.024827424174813734, 19: 0.08639290084822213, 20: 0.7032596608173918}\n",
      "[0.76563529 0.75757576 0.78246539 0.78679868 0.76831683]\n",
      "              precision    recall  f1-score   support\n",
      "\n",
      "           1       0.97      0.90      0.93        79\n",
      "           2       0.59      0.90      0.71        39\n",
      "           3       0.88      0.78      0.82        90\n",
      "           4       0.79      0.93      0.85        57\n",
      "           5       0.91      0.54      0.68       140\n",
      "           6       0.69      0.67      0.68        82\n",
      "           7       0.80      0.83      0.81        81\n",
      "           8       0.68      0.62      0.65        93\n",
      "           9       0.90      0.83      0.86        86\n",
      "          10       0.99      0.97      0.98       109\n",
      "          11       0.64      0.58      0.61        78\n",
      "          12       0.69      1.00      0.82        20\n",
      "          13       0.30      0.38      0.34        64\n",
      "          14       0.99      1.00      0.99        99\n",
      "          15       1.00      0.94      0.97        79\n",
      "          16       0.64      0.67      0.66        73\n",
      "          17       0.97      0.94      0.95        63\n",
      "          18       0.41      0.64      0.50        50\n",
      "          19       0.67      0.76      0.71        63\n",
      "          20       0.68      0.77      0.72        71\n",
      "\n",
      "   micro avg       0.77      0.77      0.77      1516\n",
      "   macro avg       0.76      0.78      0.76      1516\n",
      "weighted avg       0.79      0.77      0.77      1516\n",
      "\n",
      "0.7691292875989446\n",
      "===================\n",
      "0.0075\n",
      "0.0025\n",
      "0.0775\n",
      "0.0325\n"
     ]
    }
   ],
   "source": [
    "rng = np.random.RandomState(12345)\n",
    "model = RandomForestClassifier(random_state=rng,n_estimators=10)\n",
    "\n",
    "kf = KFold(5, True)\n",
    "iteration_cnt = 0\n",
    "\n",
    "result_struct = createResultDict(20)\n",
    "\n",
    "for train_index, test_index in kf.split(c_data,c_target):\n",
    "    tmp_result_struct = {}#{1:{1:0,2:0,3:0,4:0},2:{1:0,2:0,3:0,4:0},3:{1:0,2:0,3:0,4:0},4:{1:0,2:0,3:0,4:0}}\n",
    "    iteration_cnt += 1\n",
    "    #Train\n",
    "    model.fit(c_data[train_index],c_target[train_index])\n",
    "    #Evaluate \n",
    "    y_class = model.predict(c_data[test_index])\n",
    "    y_pred = model.predict_proba(c_data[test_index])\n",
    "    \n",
    "    for i in range(len(test_index)):\n",
    "       # if c_target[i] == 1:\n",
    "        try:\n",
    "            tmp_result_struct[c_target[test_index[i]]][y_class[i]] += 1\n",
    "        except Exception as e:\n",
    "            try:\n",
    "                tmp_result_struct[c_target[test_index[i]]][y_class[i]] = 1\n",
    "            except Exception as e3:\n",
    "                tmp_result_struct[c_target[test_index[i]]] = {}\n",
    "                tmp_result_struct[c_target[test_index[i]]][y_class[i]] = 1\n",
    "                \n",
    "\n",
    "    for t_class,t_value in tmp_result_struct.items():\n",
    "        p_sum = 0\n",
    "        for p_class,p_value in t_value.items():\n",
    "            p_sum += p_value\n",
    "        for p_class,p_value in t_value.items():\n",
    "            if iteration_cnt == 1:\n",
    "                result_struct[t_class][p_class] = (p_value/p_sum)\n",
    "            else:\n",
    "                result_struct[t_class][p_class] = (result_struct[t_class][p_class]+(p_value/p_sum))/2\n",
    "\n",
    "for key,val in result_struct.items():\n",
    "    print(key,\":\",val)\n",
    "#print(result_struct)\n",
    "  \n",
    "    #for i in range(len(y_class)):\n",
    "    #    if y_class[i] != c_target[i]:\n",
    "    #        print(\"Misclassification\",y_pred[i],y_class[i],c_target[i])\n",
    "    #        input(\"Press enter\")\n",
    "    #    print(y_pred[i],y_class[i],c_target[i])\n",
    "    #    input(\"Press enter\")\n",
    "   # print(metrics.accuracy_score(y_class,c_target[test_index]))\n",
    "   # print(classification_report(y_class,c_target[test_index],output_dict=False))\n",
    "\n",
    "print(cross_val_score(model, c_data, c_target, cv=5))\n",
    "print(classification_report(y_class,c_target[test_index],output_dict=False))\n",
    "print(metrics.accuracy_score(y_class,c_target[test_index]))\n",
    "print(\"===================\")\n",
    "y_class = model.predict(c_anomaly_data)\n",
    "y_pred = model.predict_proba(c_anomaly_data)\n",
    "#print(y_pred)\n",
    "print(metrics.accuracy_score(y_class,[1]*len(c_anomaly_data.data)))\n",
    "print(metrics.accuracy_score(y_class,[2]*len(c_anomaly_data.data)))\n",
    "print(metrics.accuracy_score(y_class,[3]*len(c_anomaly_data.data)))\n",
    "print(metrics.accuracy_score(y_class,[4]*len(c_anomaly_data.data)))\n",
    "#print(classification_report(y_class,c_target[test_index],output_dict=False))\n"
   ]
  },
  {
   "cell_type": "code",
   "execution_count": null,
   "metadata": {},
   "outputs": [],
   "source": []
  },
  {
   "cell_type": "markdown",
   "metadata": {},
   "source": [
    "## AdaBoost"
   ]
  },
  {
   "cell_type": "raw",
   "metadata": {},
   "source": [
    "rng = np.random.RandomState(12345)\n",
    "model = AdaBoostClassifier(random_state=rng)\n",
    "\n",
    "kf = KFold(3, True)\n",
    "iteration_cnt = 0\n",
    "for train_index, test_index in kf.split(c_data,c_target):\n",
    "    iteration_cnt += 1\n",
    "    #Train\n",
    "    model.fit(c_data[train_index],c_target[train_index])\n",
    "    #Evaluate \n",
    "    y_class = model.predict(c_data[test_index])\n",
    "    y_pred = model.predict_proba(c_data[test_index])\n",
    "    #print(metrics.accuracy_score(y_class,c_target[test_index]))\n",
    "    print(classification_report(y_class,c_target[test_index],output_dict=False))\n",
    "\n",
    "print(cross_val_score(model, c_data, c_target, cv=3))"
   ]
  },
  {
   "cell_type": "markdown",
   "metadata": {},
   "source": [
    "## GradientBoosting"
   ]
  },
  {
   "cell_type": "raw",
   "metadata": {},
   "source": [
    "rng = np.random.RandomState(12345)\n",
    "model = GradientBoostingClassifier(random_state=rng)\n",
    "\n",
    "kf = KFold(3, True)\n",
    "iteration_cnt = 0\n",
    "for train_index, test_index in kf.split(c_data,c_target):\n",
    "    iteration_cnt += 1\n",
    "    #Train\n",
    "    model.fit(c_data[train_index],c_target[train_index])\n",
    "    #Evaluate \n",
    "    y_class = model.predict(c_data[test_index])\n",
    "    y_pred = model.predict_proba(c_data[test_index])\n",
    "    #print(metrics.accuracy_score(y_class,c_target[test_index]))\n",
    "    print(classification_report(y_class,c_target[test_index],output_dict=False))\n",
    "\n",
    "print(cross_val_score(model, c_data, c_target, cv=3))"
   ]
  },
  {
   "cell_type": "code",
   "execution_count": null,
   "metadata": {},
   "outputs": [],
   "source": []
  }
 ],
 "metadata": {
  "kernelspec": {
   "display_name": "Python 3",
   "language": "python",
   "name": "python3"
  },
  "language_info": {
   "codemirror_mode": {
    "name": "ipython",
    "version": 3
   },
   "file_extension": ".py",
   "mimetype": "text/x-python",
   "name": "python",
   "nbconvert_exporter": "python",
   "pygments_lexer": "ipython3",
   "version": "3.7.0"
  }
 },
 "nbformat": 4,
 "nbformat_minor": 2
}
