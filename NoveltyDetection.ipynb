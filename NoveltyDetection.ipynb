{
 "cells": [
  {
   "cell_type": "markdown",
   "metadata": {},
   "source": [
    "# Initialization"
   ]
  },
  {
   "cell_type": "code",
   "execution_count": 4,
   "metadata": {},
   "outputs": [],
   "source": [
    "import imp\n",
    "from sklearn.model_selection import KFold\n",
    "from sklearn.model_selection import train_test_split\n",
    "import numpy as np\n",
    "#from data_parser import DataParser\n",
    "from pull_data import Pull\n",
    "import os"
   ]
  },
  {
   "cell_type": "code",
   "execution_count": 3,
   "metadata": {},
   "outputs": [],
   "source": [
    "IKEA_APP = \"annotated-datasets/ikea-app\"\n",
    "IKEA_HOMEKIT = \"annotated-datasets/ikea-homekit\"\n",
    "IP_CAM = \"annotated-datasets/ipcam\"\n",
    "NORMAL_USER = \"annotated-datasets/normal-user\"\n",
    "VOICE_ASSISTANT = \"annotated-datasets/voice-assistant\""
   ]
  },
  {
   "cell_type": "code",
   "execution_count": null,
   "metadata": {},
   "outputs": [],
   "source": [
    "t = Pull(\"input-data-sets/train/\",1)\n",
    "a = Pull(\"input-data-sets/test/anomaly-traffic\",1)\n",
    "v = Pull(\"input-data-sets/valid/\",1)"
   ]
  },
  {
   "cell_type": "code",
   "execution_count": null,
   "metadata": {},
   "outputs": [],
   "source": []
  }
 ],
 "metadata": {
  "kernelspec": {
   "display_name": "Python 3",
   "language": "python",
   "name": "python3"
  },
  "language_info": {
   "codemirror_mode": {
    "name": "ipython",
    "version": 3
   },
   "file_extension": ".py",
   "mimetype": "text/x-python",
   "name": "python",
   "nbconvert_exporter": "python",
   "pygments_lexer": "ipython3",
   "version": "3.7.0"
  }
 },
 "nbformat": 4,
 "nbformat_minor": 2
}
